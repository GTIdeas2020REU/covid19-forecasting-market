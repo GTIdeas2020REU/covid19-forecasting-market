{
 "cells": [
  {
   "cell_type": "code",
   "execution_count": 1,
   "metadata": {},
   "outputs": [],
   "source": [
    "import pandas as pd\n",
    "import numpy as np\n",
    "from datetime import datetime,timedelta"
   ]
  },
  {
   "cell_type": "code",
   "execution_count": 2,
   "metadata": {},
   "outputs": [],
   "source": [
    "users = {'ani','sarah','bo','rachel'}\n",
    "events = {'cases','deaths'}\n",
    "outcomes = []\n",
    "totdays = 90\n",
    "numcases = 10000\n",
    "numdeaths = 800\n",
    "nowdate = datetime.now().date()\n",
    "startdate = nowdate - pd.Timedelta(days=totdays)\n",
    "for dayind in range(totdays):\n",
    "    date = startdate + pd.Timedelta(days=dayind)\n",
    "    outcomes.append(\n",
    "        {'date':date,\n",
    "         'deaths':numdeaths,\n",
    "         'cases':numcases}\n",
    "    )\n",
    "    numcases += np.random.randint(-100,100)\n",
    "    numdeaths += np.random.randint(-10,10)\n",
    "\n",
    "outcomes = pd.DataFrame(outcomes).set_index('date')\n",
    "# from datetime import datetime,timedelta\n",
    "# pd.T"
   ]
  },
  {
   "cell_type": "code",
   "execution_count": 3,
   "metadata": {},
   "outputs": [
    {
     "data": {
      "text/html": [
       "<div>\n",
       "<style scoped>\n",
       "    .dataframe tbody tr th:only-of-type {\n",
       "        vertical-align: middle;\n",
       "    }\n",
       "\n",
       "    .dataframe tbody tr th {\n",
       "        vertical-align: top;\n",
       "    }\n",
       "\n",
       "    .dataframe thead th {\n",
       "        text-align: right;\n",
       "    }\n",
       "</style>\n",
       "<table border=\"1\" class=\"dataframe\">\n",
       "  <thead>\n",
       "    <tr style=\"text-align: right;\">\n",
       "      <th></th>\n",
       "      <th>deaths</th>\n",
       "      <th>cases</th>\n",
       "    </tr>\n",
       "    <tr>\n",
       "      <th>date</th>\n",
       "      <th></th>\n",
       "      <th></th>\n",
       "    </tr>\n",
       "  </thead>\n",
       "  <tbody>\n",
       "    <tr>\n",
       "      <th>2020-08-27</th>\n",
       "      <td>800</td>\n",
       "      <td>10000</td>\n",
       "    </tr>\n",
       "    <tr>\n",
       "      <th>2020-08-28</th>\n",
       "      <td>800</td>\n",
       "      <td>9995</td>\n",
       "    </tr>\n",
       "    <tr>\n",
       "      <th>2020-08-29</th>\n",
       "      <td>804</td>\n",
       "      <td>10051</td>\n",
       "    </tr>\n",
       "    <tr>\n",
       "      <th>2020-08-30</th>\n",
       "      <td>811</td>\n",
       "      <td>9993</td>\n",
       "    </tr>\n",
       "    <tr>\n",
       "      <th>2020-08-31</th>\n",
       "      <td>818</td>\n",
       "      <td>9969</td>\n",
       "    </tr>\n",
       "    <tr>\n",
       "      <th>...</th>\n",
       "      <td>...</td>\n",
       "      <td>...</td>\n",
       "    </tr>\n",
       "    <tr>\n",
       "      <th>2020-11-20</th>\n",
       "      <td>926</td>\n",
       "      <td>10377</td>\n",
       "    </tr>\n",
       "    <tr>\n",
       "      <th>2020-11-21</th>\n",
       "      <td>932</td>\n",
       "      <td>10426</td>\n",
       "    </tr>\n",
       "    <tr>\n",
       "      <th>2020-11-22</th>\n",
       "      <td>931</td>\n",
       "      <td>10400</td>\n",
       "    </tr>\n",
       "    <tr>\n",
       "      <th>2020-11-23</th>\n",
       "      <td>923</td>\n",
       "      <td>10379</td>\n",
       "    </tr>\n",
       "    <tr>\n",
       "      <th>2020-11-24</th>\n",
       "      <td>925</td>\n",
       "      <td>10477</td>\n",
       "    </tr>\n",
       "  </tbody>\n",
       "</table>\n",
       "<p>90 rows × 2 columns</p>\n",
       "</div>"
      ],
      "text/plain": [
       "            deaths  cases\n",
       "date                     \n",
       "2020-08-27     800  10000\n",
       "2020-08-28     800   9995\n",
       "2020-08-29     804  10051\n",
       "2020-08-30     811   9993\n",
       "2020-08-31     818   9969\n",
       "...            ...    ...\n",
       "2020-11-20     926  10377\n",
       "2020-11-21     932  10426\n",
       "2020-11-22     931  10400\n",
       "2020-11-23     923  10379\n",
       "2020-11-24     925  10477\n",
       "\n",
       "[90 rows x 2 columns]"
      ]
     },
     "execution_count": 3,
     "metadata": {},
     "output_type": "execute_result"
    }
   ],
   "source": [
    "outcomes"
   ]
  },
  {
   "cell_type": "code",
   "execution_count": 17,
   "metadata": {},
   "outputs": [],
   "source": [
    "predict_chance = 0.1\n",
    "\n",
    "user_preds = []\n",
    "\n",
    "for user in users:\n",
    "    for event in events:\n",
    "        for dayind in range(totdays-1):\n",
    "            date = startdate + pd.Timedelta(days=dayind)\n",
    "            if np.random.rand() < predict_chance:\n",
    "                num_days_of_preds = np.random.randint(1,totdays-dayind)\n",
    "                pred_val = 500\n",
    "                for preddate_ind in range(1,num_days_of_preds):\n",
    "                    date_for_pred = date + pd.Timedelta(days=preddate_ind)\n",
    "                    pred_val = max(pred_val + np.random.randint(-10,10),0)\n",
    "                    user_preds.append(\n",
    "                        {\n",
    "                            'user':user,\n",
    "                            'event':event,\n",
    "                            'datemade':date,\n",
    "                            'datefor':date_for_pred,\n",
    "                            'value':pred_val\n",
    "                        })\n",
    "\n",
    "users_preds = pd.DataFrame(user_preds)\n",
    "                    \n",
    "                    \n",
    "                    \n",
    "                    "
   ]
  },
  {
   "cell_type": "code",
   "execution_count": 18,
   "metadata": {},
   "outputs": [
    {
     "data": {
      "text/html": [
       "<div>\n",
       "<style scoped>\n",
       "    .dataframe tbody tr th:only-of-type {\n",
       "        vertical-align: middle;\n",
       "    }\n",
       "\n",
       "    .dataframe tbody tr th {\n",
       "        vertical-align: top;\n",
       "    }\n",
       "\n",
       "    .dataframe thead th {\n",
       "        text-align: right;\n",
       "    }\n",
       "</style>\n",
       "<table border=\"1\" class=\"dataframe\">\n",
       "  <thead>\n",
       "    <tr style=\"text-align: right;\">\n",
       "      <th></th>\n",
       "      <th>user</th>\n",
       "      <th>event</th>\n",
       "      <th>datemade</th>\n",
       "      <th>datefor</th>\n",
       "      <th>value</th>\n",
       "    </tr>\n",
       "  </thead>\n",
       "  <tbody>\n",
       "    <tr>\n",
       "      <th>0</th>\n",
       "      <td>ani</td>\n",
       "      <td>deaths</td>\n",
       "      <td>2020-09-02</td>\n",
       "      <td>2020-09-03</td>\n",
       "      <td>509</td>\n",
       "    </tr>\n",
       "    <tr>\n",
       "      <th>1</th>\n",
       "      <td>ani</td>\n",
       "      <td>deaths</td>\n",
       "      <td>2020-09-02</td>\n",
       "      <td>2020-09-04</td>\n",
       "      <td>503</td>\n",
       "    </tr>\n",
       "    <tr>\n",
       "      <th>2</th>\n",
       "      <td>ani</td>\n",
       "      <td>deaths</td>\n",
       "      <td>2020-09-02</td>\n",
       "      <td>2020-09-05</td>\n",
       "      <td>508</td>\n",
       "    </tr>\n",
       "    <tr>\n",
       "      <th>3</th>\n",
       "      <td>ani</td>\n",
       "      <td>deaths</td>\n",
       "      <td>2020-09-02</td>\n",
       "      <td>2020-09-06</td>\n",
       "      <td>513</td>\n",
       "    </tr>\n",
       "    <tr>\n",
       "      <th>4</th>\n",
       "      <td>ani</td>\n",
       "      <td>deaths</td>\n",
       "      <td>2020-09-02</td>\n",
       "      <td>2020-09-07</td>\n",
       "      <td>506</td>\n",
       "    </tr>\n",
       "    <tr>\n",
       "      <th>...</th>\n",
       "      <td>...</td>\n",
       "      <td>...</td>\n",
       "      <td>...</td>\n",
       "      <td>...</td>\n",
       "      <td>...</td>\n",
       "    </tr>\n",
       "    <tr>\n",
       "      <th>95</th>\n",
       "      <td>ani</td>\n",
       "      <td>deaths</td>\n",
       "      <td>2020-09-11</td>\n",
       "      <td>2020-09-24</td>\n",
       "      <td>495</td>\n",
       "    </tr>\n",
       "    <tr>\n",
       "      <th>96</th>\n",
       "      <td>ani</td>\n",
       "      <td>deaths</td>\n",
       "      <td>2020-09-11</td>\n",
       "      <td>2020-09-25</td>\n",
       "      <td>494</td>\n",
       "    </tr>\n",
       "    <tr>\n",
       "      <th>97</th>\n",
       "      <td>ani</td>\n",
       "      <td>deaths</td>\n",
       "      <td>2020-09-11</td>\n",
       "      <td>2020-09-26</td>\n",
       "      <td>501</td>\n",
       "    </tr>\n",
       "    <tr>\n",
       "      <th>98</th>\n",
       "      <td>ani</td>\n",
       "      <td>deaths</td>\n",
       "      <td>2020-09-11</td>\n",
       "      <td>2020-09-27</td>\n",
       "      <td>502</td>\n",
       "    </tr>\n",
       "    <tr>\n",
       "      <th>99</th>\n",
       "      <td>ani</td>\n",
       "      <td>deaths</td>\n",
       "      <td>2020-09-11</td>\n",
       "      <td>2020-09-28</td>\n",
       "      <td>508</td>\n",
       "    </tr>\n",
       "  </tbody>\n",
       "</table>\n",
       "<p>100 rows × 5 columns</p>\n",
       "</div>"
      ],
      "text/plain": [
       "   user   event    datemade     datefor  value\n",
       "0   ani  deaths  2020-09-02  2020-09-03    509\n",
       "1   ani  deaths  2020-09-02  2020-09-04    503\n",
       "2   ani  deaths  2020-09-02  2020-09-05    508\n",
       "3   ani  deaths  2020-09-02  2020-09-06    513\n",
       "4   ani  deaths  2020-09-02  2020-09-07    506\n",
       "..  ...     ...         ...         ...    ...\n",
       "95  ani  deaths  2020-09-11  2020-09-24    495\n",
       "96  ani  deaths  2020-09-11  2020-09-25    494\n",
       "97  ani  deaths  2020-09-11  2020-09-26    501\n",
       "98  ani  deaths  2020-09-11  2020-09-27    502\n",
       "99  ani  deaths  2020-09-11  2020-09-28    508\n",
       "\n",
       "[100 rows x 5 columns]"
      ]
     },
     "execution_count": 18,
     "metadata": {},
     "output_type": "execute_result"
    }
   ],
   "source": [
    "users_preds.head(100)"
   ]
  },
  {
   "cell_type": "code",
   "execution_count": 19,
   "metadata": {},
   "outputs": [],
   "source": [
    "xx = outcomes['deaths']"
   ]
  },
  {
   "cell_type": "code",
   "execution_count": 20,
   "metadata": {},
   "outputs": [
    {
     "data": {
      "text/plain": [
       "array([800, 800, 804, 811, 818, 815, 811, 808, 815, 810, 814, 823, 825,\n",
       "       831, 835, 828, 834, 838, 828, 837, 837, 833, 826, 825, 824, 830,\n",
       "       825, 834, 836, 826, 828, 831, 840, 847, 856, 864, 873, 874, 869,\n",
       "       870, 866, 875, 874, 872, 877, 883, 873, 874, 875, 880, 882, 881,\n",
       "       876, 866, 872, 873, 877, 885, 890, 895, 891, 892, 891, 897, 891,\n",
       "       894, 902, 902, 911, 919, 918, 925, 915, 908, 908, 913, 913, 910,\n",
       "       909, 913, 908, 913, 919, 918, 919, 926, 932, 931, 923, 925])"
      ]
     },
     "execution_count": 20,
     "metadata": {},
     "output_type": "execute_result"
    }
   ],
   "source": [
    "xx.to_numpy()"
   ]
  },
  {
   "cell_type": "code",
   "execution_count": 22,
   "metadata": {},
   "outputs": [
    {
     "data": {
      "text/plain": [
       "(1917, 5)"
      ]
     },
     "execution_count": 22,
     "metadata": {},
     "output_type": "execute_result"
    }
   ],
   "source": [
    "users_preds.shape"
   ]
  },
  {
   "cell_type": "code",
   "execution_count": 50,
   "metadata": {},
   "outputs": [],
   "source": [
    "def score_preds1(users_preds,event,interval=7):\n",
    "    users = users_preds['user'].unique()\n",
    "    performance = {}\n",
    "    for user in users:\n",
    "        user_interval_preds = users_preds[\n",
    "            (users_preds['user'] == user) &\n",
    "            (users_preds['event'] == event) &\n",
    "            ((users_preds['datefor']-users_preds['datemade']).apply(lambda delt: delt.days==interval))\n",
    "        ]\n",
    "        true_results = outcomes.loc[user_interval_preds['datefor'],event]\n",
    "#         print(user_interval_preds['value'])\n",
    "#         print(true_results)\n",
    "#         print((user_interval_preds['value'] - true_results))\n",
    "        performance[user] = ((user_interval_preds['value'].to_numpy() - true_results.to_numpy())**2).mean()\n",
    "    return performance"
   ]
  },
  {
   "cell_type": "code",
   "execution_count": 51,
   "metadata": {},
   "outputs": [],
   "source": [
    "performance = score_preds1(users_preds,'deaths')"
   ]
  },
  {
   "cell_type": "code",
   "execution_count": 52,
   "metadata": {},
   "outputs": [
    {
     "data": {
      "text/plain": [
       "{'bo': 91306.33333333333,\n",
       " 'rachel': 91809.0,\n",
       " 'ani': 84871.1,\n",
       " 'sarah': 89541.375}"
      ]
     },
     "execution_count": 52,
     "metadata": {},
     "output_type": "execute_result"
    }
   ],
   "source": [
    "performance"
   ]
  },
  {
   "cell_type": "code",
   "execution_count": null,
   "metadata": {},
   "outputs": [],
   "source": []
  },
  {
   "cell_type": "code",
   "execution_count": 23,
   "metadata": {},
   "outputs": [
    {
     "data": {
      "text/plain": [
       "0       1\n",
       "1       2\n",
       "2       3\n",
       "3       4\n",
       "4       5\n",
       "       ..\n",
       "1912    6\n",
       "1913    1\n",
       "1914    2\n",
       "1915    3\n",
       "1916    4\n",
       "Length: 1917, dtype: int64"
      ]
     },
     "execution_count": 23,
     "metadata": {},
     "output_type": "execute_result"
    }
   ],
   "source": [
    "(users_preds['datefor']-users_preds['datemade']).apply(lambda x: x.days)"
   ]
  },
  {
   "cell_type": "code",
   "execution_count": 26,
   "metadata": {},
   "outputs": [],
   "source": [
    "def score_preds2(users_preds,event,interval=7):\n",
    "    users = users_preds['user'].unique()\n",
    "    checkdates = [startdate + pd.Timedelta(days=interval*j) for j in range(int(totdays/interval))\n",
    "                 if startdate + pd.Timedelta(days=interval*j) <= nowdate]\n",
    "    #print(checkdates)\n",
    "    performance = {}\n",
    "    for user in users:\n",
    "        relevant_preds = users_preds[\n",
    "            (users_preds['datefor'].isin(checkdates)) \n",
    "            &\n",
    "            (users_preds['user'] == user) &\n",
    "            (users_preds['event'] == event) &\n",
    "            ((users_preds['datefor'] - users_preds['datemade']).apply(lambda delt: delt.days) >= interval)\n",
    "        ].sort_values('datemade').drop_duplicates('datefor',keep='last')\n",
    "        \n",
    "        true_results = outcomes.loc[relevant_preds['datefor'],event]\n",
    "        #print(true_results)\n",
    "        #print(relevant_preds)\n",
    "        scores = (relevant_preds['value'].to_numpy() - true_results.to_numpy())**2\n",
    "        performance[user] = scores.mean()\n",
    "        return true_results, relevant_preds\n",
    "    return performance"
   ]
  },
  {
   "cell_type": "code",
   "execution_count": 27,
   "metadata": {},
   "outputs": [
    {
     "name": "stdout",
     "output_type": "stream",
     "text": [
      "[datetime.date(2020, 8, 27), datetime.date(2020, 9, 3), datetime.date(2020, 9, 10), datetime.date(2020, 9, 17), datetime.date(2020, 9, 24), datetime.date(2020, 10, 1), datetime.date(2020, 10, 8), datetime.date(2020, 10, 15), datetime.date(2020, 10, 22), datetime.date(2020, 10, 29), datetime.date(2020, 11, 5), datetime.date(2020, 11, 12)]\n",
      "date\n",
      "2020-09-10    835\n",
      "2020-09-17    833\n",
      "2020-11-12    910\n",
      "2020-09-24    836\n",
      "2020-10-08    874\n",
      "2020-10-01    864\n",
      "2020-11-05    918\n",
      "2020-10-15    880\n",
      "2020-10-29    897\n",
      "2020-10-22    877\n",
      "Name: deaths, dtype: int64\n",
      "    user   event    datemade     datefor  value\n",
      "7    ani  deaths  2020-09-02  2020-09-10    501\n",
      "21   ani  deaths  2020-09-06  2020-09-17    546\n",
      "77   ani  deaths  2020-09-06  2020-11-12    632\n",
      "186  ani  deaths  2020-09-17  2020-09-24    484\n",
      "200  ani  deaths  2020-09-17  2020-10-08    439\n",
      "225  ani  deaths  2020-09-21  2020-10-01    520\n",
      "264  ani  deaths  2020-10-02  2020-11-05    500\n",
      "243  ani  deaths  2020-10-02  2020-10-15    507\n",
      "257  ani  deaths  2020-10-02  2020-10-29    498\n",
      "276  ani  deaths  2020-10-11  2020-10-22    486\n",
      "date\n",
      "2020-10-01    864\n",
      "2020-10-08    874\n",
      "2020-10-15    880\n",
      "2020-10-22    877\n",
      "2020-10-29    897\n",
      "2020-11-05    918\n",
      "2020-11-12    910\n",
      "Name: deaths, dtype: int64\n",
      "    user   event    datemade     datefor  value\n",
      "526   bo  deaths  2020-09-22  2020-10-01    508\n",
      "551   bo  deaths  2020-09-27  2020-10-08    488\n",
      "558   bo  deaths  2020-09-27  2020-10-15    492\n",
      "565   bo  deaths  2020-09-27  2020-10-22    478\n",
      "572   bo  deaths  2020-09-27  2020-10-29    478\n",
      "579   bo  deaths  2020-09-27  2020-11-05    465\n",
      "586   bo  deaths  2020-09-27  2020-11-12    466\n",
      "date\n",
      "2020-09-03    808\n",
      "2020-09-10    835\n",
      "2020-09-17    833\n",
      "2020-09-24    836\n",
      "2020-10-15    880\n",
      "2020-10-01    864\n",
      "2020-10-08    874\n",
      "2020-10-22    877\n",
      "2020-11-05    918\n",
      "2020-10-29    897\n",
      "2020-11-12    910\n",
      "Name: deaths, dtype: int64\n",
      "       user   event    datemade     datefor  value\n",
      "898   sarah  deaths  2020-08-27  2020-09-03    498\n",
      "905   sarah  deaths  2020-08-27  2020-09-10    485\n",
      "912   sarah  deaths  2020-08-27  2020-09-17    512\n",
      "919   sarah  deaths  2020-08-27  2020-09-24    498\n",
      "980   sarah  deaths  2020-09-24  2020-10-15    476\n",
      "966   sarah  deaths  2020-09-24  2020-10-01    474\n",
      "1007  sarah  deaths  2020-09-28  2020-10-08    476\n",
      "1021  sarah  deaths  2020-10-12  2020-10-22    508\n",
      "1111  sarah  deaths  2020-10-22  2020-11-05    506\n",
      "1104  sarah  deaths  2020-10-22  2020-10-29    513\n",
      "1118  sarah  deaths  2020-10-22  2020-11-12    460\n",
      "date\n",
      "2020-09-10    835\n",
      "2020-09-17    833\n",
      "2020-09-24    836\n",
      "2020-10-01    864\n",
      "2020-10-08    874\n",
      "2020-10-15    880\n",
      "2020-10-29    897\n",
      "2020-11-05    918\n",
      "2020-10-22    877\n",
      "2020-11-12    910\n",
      "Name: deaths, dtype: int64\n",
      "        user   event    datemade     datefor  value\n",
      "1439  rachel  deaths  2020-09-01  2020-09-10    475\n",
      "1520  rachel  deaths  2020-09-04  2020-09-17    460\n",
      "1555  rachel  deaths  2020-09-11  2020-09-24    484\n",
      "1562  rachel  deaths  2020-09-11  2020-10-01    485\n",
      "1569  rachel  deaths  2020-09-11  2020-10-08    486\n",
      "1590  rachel  deaths  2020-10-05  2020-10-15    496\n",
      "1673  rachel  deaths  2020-10-14  2020-10-29    498\n",
      "1680  rachel  deaths  2020-10-14  2020-11-05    526\n",
      "1666  rachel  deaths  2020-10-14  2020-10-22    483\n",
      "1687  rachel  deaths  2020-10-14  2020-11-12    540\n"
     ]
    }
   ],
   "source": [
    "performance2 = score_preds2(users_preds,'deaths')"
   ]
  },
  {
   "cell_type": "code",
   "execution_count": 28,
   "metadata": {},
   "outputs": [
    {
     "data": {
      "text/plain": [
       "{'ani': 132860.9,\n",
       " 'bo': 166197.57142857142,\n",
       " 'sarah': 142315.0909090909,\n",
       " 'rachel': 143927.5}"
      ]
     },
     "execution_count": 28,
     "metadata": {},
     "output_type": "execute_result"
    }
   ],
   "source": [
    "performance2"
   ]
  },
  {
   "cell_type": "code",
   "execution_count": null,
   "metadata": {},
   "outputs": [],
   "source": []
  }
 ],
 "metadata": {
  "kernelspec": {
   "display_name": "Python 3",
   "language": "python",
   "name": "python3"
  },
  "language_info": {
   "codemirror_mode": {
    "name": "ipython",
    "version": 3
   },
   "file_extension": ".py",
   "mimetype": "text/x-python",
   "name": "python",
   "nbconvert_exporter": "python",
   "pygments_lexer": "ipython3",
   "version": "3.6.10"
  }
 },
 "nbformat": 4,
 "nbformat_minor": 4
}
